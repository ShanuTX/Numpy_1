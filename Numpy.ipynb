{
 "cells": [
  {
   "cell_type": "code",
   "execution_count": 1,
   "id": "a64dd367",
   "metadata": {},
   "outputs": [
    {
     "name": "stdout",
     "output_type": "stream",
     "text": [
      "[1 2 3 4]\n"
     ]
    }
   ],
   "source": [
    "import numpy as np\n",
    "\n",
    "arr_1d = np.array([1, 2, 3, 4])\n",
    "print(arr_1d)"
   ]
  },
  {
   "cell_type": "code",
   "execution_count": 2,
   "id": "df04ff58",
   "metadata": {},
   "outputs": [
    {
     "name": "stdout",
     "output_type": "stream",
     "text": [
      "[[1 2 3]\n",
      " [4 5 6]]\n"
     ]
    }
   ],
   "source": [
    "#creation of 2d array\n",
    "arr_2d = np.array([[1, 2, 3], [4, 5, 6]])\n",
    "print(arr_2d)"
   ]
  },
  {
   "cell_type": "code",
   "execution_count": 3,
   "id": "976f7fe6",
   "metadata": {},
   "outputs": [
    {
     "data": {
      "text/plain": [
       "array([[1., 1.],\n",
       "       [1., 1.],\n",
       "       [1., 1.],\n",
       "       [1., 1.]])"
      ]
     },
     "execution_count": 3,
     "metadata": {},
     "output_type": "execute_result"
    }
   ],
   "source": [
    "#ones function\n",
    "np.ones((4,2))"
   ]
  },
  {
   "cell_type": "code",
   "execution_count": 4,
   "id": "c5b2cf55",
   "metadata": {},
   "outputs": [
    {
     "data": {
      "text/plain": [
       "array([[0., 0., 0.],\n",
       "       [0., 0., 0.]])"
      ]
     },
     "execution_count": 4,
     "metadata": {},
     "output_type": "execute_result"
    }
   ],
   "source": [
    "#zeros function\n",
    "np.zeros((2,3))"
   ]
  },
  {
   "cell_type": "code",
   "execution_count": 5,
   "id": "42224c32",
   "metadata": {},
   "outputs": [
    {
     "name": "stdout",
     "output_type": "stream",
     "text": [
      "Shape: (2, 3)\n",
      "Size: 6\n",
      "Data type: int32\n"
     ]
    }
   ],
   "source": [
    "#Array Properties: You can check the shape, size, and data type of an array:\n",
    "\n",
    "print(\"Shape:\", arr_2d.shape)  # Output: (2, 3)\n",
    "print(\"Size:\", arr_2d.size)    # Output: 6\n",
    "print(\"Data type:\", arr_2d.dtype)  # Output: int64 (or similar depending on your system)"
   ]
  },
  {
   "cell_type": "code",
   "execution_count": 6,
   "id": "676df3c0",
   "metadata": {},
   "outputs": [
    {
     "name": "stdout",
     "output_type": "stream",
     "text": [
      "[6 7 8]\n",
      "[2 4 6]\n"
     ]
    }
   ],
   "source": [
    "#Basic Operations: NumPy allows for element-wise operations:\n",
    "\n",
    "arr = np.array([1, 2, 3])\n",
    "print(arr + 5)  # Adds 5 to each element\n",
    "print(arr * 2)  # Multiplies each element by 2"
   ]
  },
  {
   "cell_type": "code",
   "execution_count": 7,
   "id": "37cc7a86",
   "metadata": {},
   "outputs": [
    {
     "name": "stdout",
     "output_type": "stream",
     "text": [
      "[2 3]\n",
      "[2 5]\n"
     ]
    }
   ],
   "source": [
    "#Array Slicing: You can slice arrays just like lists:\n",
    "\n",
    "print(arr_1d[1:3])  # Output: [2, 3]\n",
    "print(arr_2d[:, 1])  # Output: [2, 5] (second column)"
   ]
  },
  {
   "cell_type": "code",
   "execution_count": 8,
   "id": "b4cd4f6a",
   "metadata": {},
   "outputs": [
    {
     "name": "stdout",
     "output_type": "stream",
     "text": [
      "2.0\n",
      "6\n",
      "0.816496580927726\n"
     ]
    }
   ],
   "source": [
    "#Mathematical Functions: NumPy provides a variety of mathematical functions:\n",
    "\n",
    "arr = np.array([1, 2, 3])\n",
    "print(np.mean(arr))  # Mean\n",
    "print(np.sum(arr))   # Sum\n",
    "print(np.std(arr))   # Standard deviation"
   ]
  },
  {
   "cell_type": "code",
   "execution_count": 9,
   "id": "0828de7d",
   "metadata": {},
   "outputs": [
    {
     "name": "stdout",
     "output_type": "stream",
     "text": [
      "[[1 2]\n",
      " [3 4]\n",
      " [5 6]]\n"
     ]
    }
   ],
   "source": [
    "#Reshaping Arrays: You can reshape arrays without changing their data:\n",
    "\n",
    "reshaped_arr = arr_2d.reshape(3, 2)\n",
    "print(reshaped_arr)"
   ]
  },
  {
   "cell_type": "code",
   "execution_count": 10,
   "id": "08196097",
   "metadata": {},
   "outputs": [
    {
     "name": "stdout",
     "output_type": "stream",
     "text": [
      "[[2 3 4]\n",
      " [3 4 5]\n",
      " [4 5 6]]\n"
     ]
    }
   ],
   "source": [
    "# Array Broadcasting: NumPy automatically expands the dimensions of arrays during arithmetic operations:\n",
    "\n",
    "arr_3d = np.array([[1], [2], [3]])\n",
    "print(arr_3d + np.array([1, 2, 3]))  # Adds each element of arr_3d with the 1D array"
   ]
  },
  {
   "cell_type": "code",
   "execution_count": 11,
   "id": "12251db0",
   "metadata": {},
   "outputs": [
    {
     "name": "stdout",
     "output_type": "stream",
     "text": [
      "(array([2], dtype=int64),)\n"
     ]
    }
   ],
   "source": [
    "#Searching for elements in an array.\n",
    "\n",
    "arr = np.array([10, 20, 30, 40, 50])\n",
    "result = np.where(arr == 30)  # Find index where value is 30\n",
    "print(result)"
   ]
  },
  {
   "cell_type": "code",
   "execution_count": 12,
   "id": "7b181564",
   "metadata": {},
   "outputs": [
    {
     "name": "stdout",
     "output_type": "stream",
     "text": [
      "[1 2 3 4 5]\n"
     ]
    }
   ],
   "source": [
    "#Sorting elements in an array.\n",
    "\n",
    "arr = np.array([3, 1, 2, 4, 5])\n",
    "sorted_arr = np.sort(arr)\n",
    "print(sorted_arr)"
   ]
  },
  {
   "cell_type": "code",
   "execution_count": 13,
   "id": "59a8f659",
   "metadata": {},
   "outputs": [
    {
     "name": "stdout",
     "output_type": "stream",
     "text": [
      "[array([1, 2]), array([3, 4]), array([5, 6])]\n"
     ]
    }
   ],
   "source": [
    "#Splitting an array into multiple sub-arrays.\n",
    "\n",
    "arr = np.array([1, 2, 3, 4, 5, 6])\n",
    "split_arr = np.split(arr, 3)  # Splits into 3 equal parts\n",
    "print(split_arr)"
   ]
  },
  {
   "cell_type": "code",
   "execution_count": 14,
   "id": "ceb27e43",
   "metadata": {},
   "outputs": [
    {
     "name": "stdout",
     "output_type": "stream",
     "text": [
      "[[1 2 3]\n",
      " [4 5 6]]\n"
     ]
    }
   ],
   "source": [
    "#Stacking arrays along a new axis.\n",
    "\n",
    "arr1 = np.array([1, 2, 3])\n",
    "arr2 = np.array([4, 5, 6])\n",
    "stacked = np.stack((arr1, arr2), axis=0)  # Stack along first axis (rows)\n",
    "print(stacked)"
   ]
  },
  {
   "cell_type": "code",
   "execution_count": 15,
   "id": "97bb9251",
   "metadata": {},
   "outputs": [
    {
     "name": "stdout",
     "output_type": "stream",
     "text": [
      "[10  2  3  4]\n",
      "[1 2 3 4]\n"
     ]
    }
   ],
   "source": [
    "#Creating a view or a copy of an array.\n",
    "\n",
    "arr = np.array([1, 2, 3, 4])\n",
    "view = arr.view()  # View of the original array\n",
    "copy = arr.copy()  # Independent copy of the array\n",
    "view[0] = 10\n",
    "print(arr)  # Output: [10, 2, 3, 4]  # View changes the original\n",
    "print(copy)"
   ]
  },
  {
   "cell_type": "code",
   "execution_count": 16,
   "id": "35e06fa4",
   "metadata": {},
   "outputs": [
    {
     "name": "stdout",
     "output_type": "stream",
     "text": [
      "1\n",
      "2\n",
      "3\n",
      "4\n",
      "5\n"
     ]
    }
   ],
   "source": [
    "#Iterating over the elements of an array.\n",
    "\n",
    "arr = np.array([1, 2, 3, 4, 5])\n",
    "for elem in arr:\n",
    "    print(elem)"
   ]
  },
  {
   "cell_type": "code",
   "execution_count": 17,
   "id": "10af4075",
   "metadata": {},
   "outputs": [
    {
     "name": "stdout",
     "output_type": "stream",
     "text": [
      "30\n"
     ]
    }
   ],
   "source": [
    "#Accessing elements or subarrays using specific indices.\n",
    "\n",
    "arr = np.array([10, 20, 30, 40, 50])\n",
    "print(arr[2])"
   ]
  },
  {
   "cell_type": "code",
   "execution_count": 22,
   "id": "7cc5c013",
   "metadata": {},
   "outputs": [
    {
     "name": "stdout",
     "output_type": "stream",
     "text": [
      "[40 50]\n"
     ]
    }
   ],
   "source": [
    "#filtering/Selecting elements based on a condition.\n",
    "\n",
    "arr = np.array([10, 20, 30, 40, 50])\n",
    "filtered = arr[arr > 30]  # Select elements greater than 30\n",
    "print(filtered)"
   ]
  },
  {
   "cell_type": "code",
   "execution_count": 23,
   "id": "dc846d12",
   "metadata": {},
   "outputs": [
    {
     "name": "stdout",
     "output_type": "stream",
     "text": [
      "[1 2 3 4 5 6]\n"
     ]
    }
   ],
   "source": [
    "#Concatenating/Joining two or more arrays along an axis.\n",
    "\n",
    "arr1 = np.array([1, 2, 3])\n",
    "arr2 = np.array([4, 5, 6])\n",
    "concatenated = np.concatenate((arr1, arr2))  # Concatenate along the first axis\n",
    "print(concatenated)"
   ]
  },
  {
   "cell_type": "code",
   "execution_count": 20,
   "id": "75f21b2d",
   "metadata": {},
   "outputs": [
    {
     "name": "stdout",
     "output_type": "stream",
     "text": [
      "(2, 4)\n"
     ]
    }
   ],
   "source": [
    "a=np.array([[1,2,3,4],[4, 5, 6,0]])\n",
    "print(a.shape)"
   ]
  },
  {
   "cell_type": "code",
   "execution_count": 24,
   "id": "5f1df324",
   "metadata": {},
   "outputs": [
    {
     "name": "stdout",
     "output_type": "stream",
     "text": [
      "[[1 2]\n",
      " [3 4]]\n",
      "(2, 2)\n",
      "4\n"
     ]
    }
   ],
   "source": [
    "# 2x2 matrix shape/size\n",
    "arr = np.array([[1, 2], [3, 4]])  \n",
    "print(arr)\n",
    "print(arr.shape)\n",
    "print(arr.size)"
   ]
  },
  {
   "cell_type": "code",
   "execution_count": 25,
   "id": "4f5eb107",
   "metadata": {},
   "outputs": [
    {
     "name": "stdout",
     "output_type": "stream",
     "text": [
      "(2, 3, 4)\n"
     ]
    }
   ],
   "source": [
    "# 3-d array shape/size\n",
    "arr=np.array([[[1,4,5,8],[1,2,5,9],[0,8,4,5]],[[1,4,5,8],[1,2,5,9],[0,8,4,5]]])\n",
    "print(arr.shape)"
   ]
  },
  {
   "cell_type": "code",
   "execution_count": 26,
   "id": "17c013bf",
   "metadata": {},
   "outputs": [
    {
     "name": "stdout",
     "output_type": "stream",
     "text": [
      "Sliced Array (from index 2 to 5):\n",
      "[30 40 50]\n"
     ]
    }
   ],
   "source": [
    "# Slice from index 2 to index 5 (exclusive)\n",
    "\n",
    "arr = np.array([10, 20, 30, 40, 50, 60, 70, 80, 90, 100])\n",
    "\n",
    "sliced_arr = arr[2:5]\n",
    "print(\"Sliced Array (from index 2 to 5):\")\n",
    "print(sliced_arr)"
   ]
  },
  {
   "cell_type": "code",
   "execution_count": 27,
   "id": "900e2ebc",
   "metadata": {},
   "outputs": [
    {
     "name": "stdout",
     "output_type": "stream",
     "text": [
      "Sliced Array with step size 2:\n",
      "[10 30 50 70 90]\n"
     ]
    }
   ],
   "source": [
    "# Slice with a step size of 2\n",
    "\n",
    "sliced_arr_step = arr[::2]\n",
    "print(\"Sliced Array with step size 2:\")\n",
    "print(sliced_arr_step)"
   ]
  },
  {
   "cell_type": "code",
   "execution_count": 28,
   "id": "bbce7187",
   "metadata": {},
   "outputs": [
    {
     "name": "stdout",
     "output_type": "stream",
     "text": [
      "Original 2D Array:\n",
      "[[ 1  2  3  4  5]\n",
      " [ 6  7  8  9 10]\n",
      " [11 12 13 14 15]\n",
      " [16 17 18 19 20]\n",
      " [21 22 23 24 25]]\n"
     ]
    }
   ],
   "source": [
    "# Create a 2D NumPy array (5x5 matrix)\n",
    "arr_2d = np.array([\n",
    "    [1, 2, 3, 4, 5],\n",
    "    [6, 7, 8, 9, 10],\n",
    "    [11, 12, 13, 14, 15],\n",
    "    [16, 17, 18, 19, 20],\n",
    "    [21, 22, 23, 24, 25]\n",
    "])\n",
    "\n",
    "print(\"Original 2D Array:\")\n",
    "print(arr_2d)"
   ]
  },
  {
   "cell_type": "code",
   "execution_count": 29,
   "id": "b5cf4a38",
   "metadata": {},
   "outputs": [
    {
     "name": "stdout",
     "output_type": "stream",
     "text": [
      "Sliced 2D Array (rows 1 to 3 and columns 1 to 4):\n",
      "[[ 7  8  9]\n",
      " [12 13 14]\n",
      " [17 18 19]]\n"
     ]
    }
   ],
   "source": [
    "# Slice rows 1 to 3 (exclusive), and columns 1 to 4 (exclusive)\n",
    "\n",
    "sliced_2d = arr_2d[1:4, 1:4]\n",
    "print(\"Sliced 2D Array (rows 1 to 3 and columns 1 to 4):\")\n",
    "print(sliced_2d)"
   ]
  },
  {
   "cell_type": "code",
   "execution_count": null,
   "id": "b2ec18a2",
   "metadata": {},
   "outputs": [],
   "source": []
  }
 ],
 "metadata": {
  "kernelspec": {
   "display_name": "Python 3 (ipykernel)",
   "language": "python",
   "name": "python3"
  },
  "language_info": {
   "codemirror_mode": {
    "name": "ipython",
    "version": 3
   },
   "file_extension": ".py",
   "mimetype": "text/x-python",
   "name": "python",
   "nbconvert_exporter": "python",
   "pygments_lexer": "ipython3",
   "version": "3.11.5"
  }
 },
 "nbformat": 4,
 "nbformat_minor": 5
}
